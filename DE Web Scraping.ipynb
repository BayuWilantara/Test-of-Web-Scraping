{
 "cells": [
  {
   "cell_type": "code",
   "execution_count": null,
   "metadata": {},
   "outputs": [
    {
     "name": "stdout",
     "output_type": "stream",
     "text": [
      "<Response [200]>\n"
     ]
    }
   ],
   "source": [
    "'''using library'''\n",
    "import requests\n",
    "from bs4 import BeautifulSoup\n",
    "import csv\n",
    "import pandas as pd\n",
    "\n",
    "'''get the link'''\n",
    "key = 'data engineer'\n",
    "location = 'indonesia'\n",
    "url = 'https://www.jobstreet.co.id/en/job-search/data-engineer-jobs-in-indonesia/'.format(key,location)\n",
    "\n",
    "req = requests.get(url)\n",
    "print(req)\n",
    "\n",
    "'''Gather the data'''\n",
    "for page in range (1,50):\n",
    "    data = []\n",
    "    req = requests.get(url+str(page))\n",
    "    soup = BeautifulSoup(req.text,'lxml')\n",
    "    items = soup.find_all('div','FYwKg _17IyL_0 _2-ij9_0 _3Vcu7_0 MtsXR_0')\n",
    "    for it in items:\n",
    "        job_function = it.find('div','FYwKg _2j8fZ_0 sIMFL_0 _1JtWu_0').text\n",
    "        company_name= it.find('span').text\n",
    "        job_posting_time = it.find('span','FYwKg _2Bz3E C6ZIU_0 _1_nER_0 _3KSG8_0 _29m7__0').text\n",
    "        data.append([job_function,company_name,job_posting_time])\n",
    "df = pd.DataFrame(data)\n",
    "newdf = df.rename(columns={0:'Job Function',1:'Company Name',2:'Job Posting Time'})\n",
    "newdf.to_csv(\"jobsteert scraping\",sep=',')\n",
    "df.head()"
   ]
  },
  {
   "cell_type": "code",
   "execution_count": null,
   "metadata": {},
   "outputs": [],
   "source": []
  }
 ],
 "metadata": {
  "kernelspec": {
   "display_name": "Python 3",
   "language": "python",
   "name": "python3"
  },
  "language_info": {
   "codemirror_mode": {
    "name": "ipython",
    "version": 3
   },
   "file_extension": ".py",
   "mimetype": "text/x-python",
   "name": "python",
   "nbconvert_exporter": "python",
   "pygments_lexer": "ipython3",
   "version": "3.8.3"
  }
 },
 "nbformat": 4,
 "nbformat_minor": 4
}
